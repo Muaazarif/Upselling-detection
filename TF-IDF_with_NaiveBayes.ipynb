{
 "cells": [
  {
   "cell_type": "code",
   "execution_count": 37,
   "id": "1bb845b2",
   "metadata": {
    "ExecuteTime": {
     "end_time": "2023-06-04T15:13:17.460291Z",
     "start_time": "2023-06-04T15:13:17.270305Z"
    }
   },
   "outputs": [
    {
     "name": "stderr",
     "output_type": "stream",
     "text": [
      "[nltk_data] Downloading package punkt to /home/ai/nltk_data...\n",
      "[nltk_data]   Package punkt is already up-to-date!\n",
      "[nltk_data] Downloading package stopwords to /home/ai/nltk_data...\n",
      "[nltk_data]   Package stopwords is already up-to-date!\n",
      "[nltk_data] Downloading package wordnet to /home/ai/nltk_data...\n",
      "[nltk_data]   Package wordnet is already up-to-date!\n"
     ]
    }
   ],
   "source": [
    "import random\n",
    "import numpy as np\n",
    "import random\n",
    "import numpy as np\n",
    "import pickle\n",
    "import re\n",
    "import nltk\n",
    "from nltk.corpus import stopwords\n",
    "from nltk.tokenize import word_tokenize\n",
    "from nltk.stem import WordNetLemmatizer\n",
    "from sklearn.naive_bayes import MultinomialNB\n",
    "from sklearn.feature_extraction.text import TfidfVectorizer\n",
    "from sklearn.metrics import accuracy_score\n",
    "from sklearn.metrics import accuracy_score, f1_score, precision_score, recall_score, classification_report, confusion_matrix\n",
    "\n",
    "\n",
    "\n",
    "\n",
    "# Download NLTK data\n",
    "nltk.download('punkt')\n",
    "nltk.download('stopwords')\n",
    "nltk.download('wordnet')\n",
    "\n",
    "np.random.seed(10) \n",
    "random.seed(10)"
   ]
  },
  {
   "cell_type": "code",
   "execution_count": 38,
   "id": "7938569b",
   "metadata": {
    "ExecuteTime": {
     "end_time": "2023-06-04T15:13:17.470269Z",
     "start_time": "2023-06-04T15:13:17.463454Z"
    }
   },
   "outputs": [],
   "source": [
    "from pathlib import Path\n",
    "\n",
    "def read_data(split_dir, min_range):\n",
    "    split_dir = Path(split_dir)\n",
    "    texts = []\n",
    "    labels = []\n",
    "    for label_dir in [\"upselling\", \"not_upselling\"]:\n",
    "        count=0\n",
    "        for text_file in (split_dir/label_dir).iterdir():\n",
    "            if str(text_file).endswith(\".txt\"):\n",
    "                count+=1\n",
    "                text = text_file.read_text()\n",
    "                text = \"\".join([i for i in text if i.isalpha() or i==\" \"])\n",
    "                texts.append(text)\n",
    "                if label_dir == \"upselling\":\n",
    "                    labels.append(0)\n",
    "                elif label_dir == \"not_upselling\":\n",
    "                    labels.append(1)\n",
    "                    \n",
    "                if count==min_range:\n",
    "                    break\n",
    "\n",
    "    return texts, labels"
   ]
  },
  {
   "cell_type": "code",
   "execution_count": 39,
   "id": "5a2e16bd",
   "metadata": {
    "ExecuteTime": {
     "end_time": "2023-06-04T15:13:17.476007Z",
     "start_time": "2023-06-04T15:13:17.472499Z"
    }
   },
   "outputs": [],
   "source": [
    "def shuffle_data(sentences,labels):\n",
    "    shuffle_sent = list(zip(sentences, labels))\n",
    "    random.shuffle(shuffle_sent)\n",
    "    sentences, labels = zip(*shuffle_sent)\n",
    "\n",
    "    return list(sentences),list(labels)"
   ]
  },
  {
   "cell_type": "code",
   "execution_count": 40,
   "id": "1493025a",
   "metadata": {
    "ExecuteTime": {
     "end_time": "2023-06-04T15:13:17.484092Z",
     "start_time": "2023-06-04T15:13:17.478459Z"
    }
   },
   "outputs": [],
   "source": [
    "def preprocess_string(input_string):\n",
    "    # Remove extra spaces\n",
    "    input_string = ' '.join(input_string.split())\n",
    "\n",
    "    # Remove symbols and punctuations\n",
    "    input_string = re.sub(r'[^\\w\\s]', '', input_string)\n",
    "\n",
    "    # Tokenize and remove stop words\n",
    "    stop_words = set(stopwords.words('english'))\n",
    "    word_tokens = word_tokenize(input_string)\n",
    "    filtered_tokens = [word for word in word_tokens if word.lower() not in stop_words]\n",
    "\n",
    "    # Lemmatize\n",
    "    lemmatizer = WordNetLemmatizer()\n",
    "    lemmatized_tokens = [lemmatizer.lemmatize(word) for word in filtered_tokens]\n",
    "\n",
    "    # Reconstruct the preprocessed string\n",
    "    preprocessed_string = ' '.join(lemmatized_tokens)\n",
    "    return preprocessed_string\n"
   ]
  },
  {
   "cell_type": "code",
   "execution_count": 41,
   "id": "8669db6b",
   "metadata": {
    "ExecuteTime": {
     "end_time": "2023-06-04T15:13:18.091430Z",
     "start_time": "2023-06-04T15:13:17.835371Z"
    }
   },
   "outputs": [],
   "source": [
    "training_sentences, training_labels = read_data(\"dataset/upselling_masked_data_refined/training\",523)\n",
    "validation_sentences, validation_labels = read_data(\"dataset/upselling_masked_data_refined/validation\", 120)\n",
    "testing_sentences, testing_labels = read_data(\"dataset/upselling_masked_data_refined/testing\",137)"
   ]
  },
  {
   "cell_type": "code",
   "execution_count": 42,
   "id": "a717e0ee",
   "metadata": {
    "ExecuteTime": {
     "end_time": "2023-06-04T15:13:18.098570Z",
     "start_time": "2023-06-04T15:13:18.094057Z"
    }
   },
   "outputs": [
    {
     "name": "stdout",
     "output_type": "stream",
     "text": [
      "training sentences and label lenth : 1046 1046\n",
      "Validation Sentences and label length : 240 240\n",
      "Testing sentences and label length : 274 274\n"
     ]
    }
   ],
   "source": [
    "print(\"training sentences and label lenth :\",len(training_sentences),len(training_labels))\n",
    "print(\"Validation Sentences and label length :\", len(validation_sentences),len(validation_labels))\n",
    "print(\"Testing sentences and label length :\",len(testing_sentences),len(testing_labels))"
   ]
  },
  {
   "cell_type": "code",
   "execution_count": 43,
   "id": "f5afcb91",
   "metadata": {
    "ExecuteTime": {
     "end_time": "2023-06-04T15:13:18.107531Z",
     "start_time": "2023-06-04T15:13:18.101051Z"
    }
   },
   "outputs": [],
   "source": [
    "training_sentences, training_labels = shuffle_data(training_sentences, training_labels)\n",
    "validation_sentences, validation_labels = shuffle_data(validation_sentences, validation_labels)\n",
    "testing_sentences, testing_labels = shuffle_data(testing_sentences, testing_labels)"
   ]
  },
  {
   "cell_type": "code",
   "execution_count": 44,
   "id": "0e977815",
   "metadata": {
    "ExecuteTime": {
     "end_time": "2023-06-04T15:13:18.113101Z",
     "start_time": "2023-06-04T15:13:18.110035Z"
    }
   },
   "outputs": [],
   "source": [
    "training_sentences.extend(validation_sentences)\n",
    "training_labels.extend(validation_labels)\n"
   ]
  },
  {
   "cell_type": "code",
   "execution_count": 45,
   "id": "b584f491",
   "metadata": {
    "ExecuteTime": {
     "end_time": "2023-06-04T15:13:20.649963Z",
     "start_time": "2023-06-04T15:13:18.116816Z"
    }
   },
   "outputs": [],
   "source": [
    "training_sentences = [preprocess_string(s) for s in training_sentences]\n",
    "testing_sentences = [preprocess_string(s) for s in testing_sentences]\n"
   ]
  },
  {
   "cell_type": "code",
   "execution_count": 46,
   "id": "50333f1c",
   "metadata": {
    "ExecuteTime": {
     "end_time": "2023-06-04T15:13:20.657423Z",
     "start_time": "2023-06-04T15:13:20.653466Z"
    }
   },
   "outputs": [
    {
     "name": "stdout",
     "output_type": "stream",
     "text": [
      "training sentences and label lenth : 1286 1286\n",
      "Testing sentences and label length : 274 274\n"
     ]
    }
   ],
   "source": [
    "print(\"training sentences and label lenth :\",len(training_sentences),len(training_labels))\n",
    "print(\"Testing sentences and label length :\",len(testing_sentences),len(testing_labels))"
   ]
  },
  {
   "cell_type": "code",
   "execution_count": 47,
   "id": "b6a2f1e3",
   "metadata": {
    "ExecuteTime": {
     "end_time": "2023-06-04T15:13:20.673662Z",
     "start_time": "2023-06-04T15:13:20.659486Z"
    }
   },
   "outputs": [],
   "source": [
    "training_sentences = np.array(training_sentences)\n",
    "training_labels = np.array(training_labels)\n",
    "\n",
    "testing_sentences = np.array(testing_sentences)\n",
    "testing_labels = np.array(testing_labels)"
   ]
  },
  {
   "cell_type": "code",
   "execution_count": null,
   "id": "2533c621",
   "metadata": {
    "ExecuteTime": {
     "end_time": "2023-04-15T17:53:37.483711Z",
     "start_time": "2023-04-15T17:53:37.333567Z"
    }
   },
   "outputs": [],
   "source": [
    "\n",
    "# Load and preprocess data\n",
    "X, y = training_sentences, training_labels\n",
    "\n",
    "# Apply TfidfVectorizer\n",
    "vectorizer = TfidfVectorizer()\n",
    "X_vectorized = vectorizer.fit_transform(X)\n",
    "\n",
    "\n",
    "X_train, y_train = X_vectorized,y\n",
    "\n",
    "# Train naive bayes model\n",
    "nb_model = MultinomialNB()\n",
    "nb_model.fit(X_train, y_train)\n"
   ]
  },
  {
   "cell_type": "code",
   "execution_count": null,
   "id": "3e0742d8",
   "metadata": {
    "ExecuteTime": {
     "end_time": "2023-04-15T17:53:40.253342Z",
     "start_time": "2023-04-15T17:53:40.248321Z"
    }
   },
   "outputs": [],
   "source": [
    "Save model and vectorizer\n",
    "pickle.dump(nb_model, open('TF_IDF_weights/nb_model.pkl', 'wb'))\n",
    "pickle.dump(vectorizer, open('TF_IDF_weights/tfidf_vectorizer.pkl', 'wb'))"
   ]
  },
  {
   "cell_type": "code",
   "execution_count": 48,
   "id": "592563ce",
   "metadata": {
    "ExecuteTime": {
     "end_time": "2023-06-04T15:13:25.915710Z",
     "start_time": "2023-06-04T15:13:25.911626Z"
    }
   },
   "outputs": [],
   "source": [
    "# Load the saved model and vectorizer\n",
    "loaded_svm_model = pickle.load(open('TF_IDF_weights/nb_model.pkl', 'rb'))\n",
    "loaded_vectorizer = pickle.load(open('TF_IDF_weights/tfidf_vectorizer.pkl', 'rb'))"
   ]
  },
  {
   "cell_type": "code",
   "execution_count": 49,
   "id": "1e10eb39",
   "metadata": {
    "ExecuteTime": {
     "end_time": "2023-06-04T15:13:26.854888Z",
     "start_time": "2023-06-04T15:13:26.413303Z"
    }
   },
   "outputs": [],
   "source": [
    "# Load and preprocess new data\n",
    "X_new, y_new = testing_sentences, testing_labels\n",
    "X_new = [preprocess_string(s) for s in X_new]\n",
    "X_new_vectorized = loaded_vectorizer.transform(X_new)\n"
   ]
  },
  {
   "cell_type": "code",
   "execution_count": 50,
   "id": "b5034a74",
   "metadata": {
    "ExecuteTime": {
     "end_time": "2023-06-04T15:13:26.978950Z",
     "start_time": "2023-06-04T15:13:26.968685Z"
    }
   },
   "outputs": [
    {
     "name": "stdout",
     "output_type": "stream",
     "text": [
      "Accuracy: 0.73\n",
      "f1score:  0.7200081749437972\n",
      "precision:  0.7485369850187266\n",
      "recall:  0.7262773722627738\n"
     ]
    }
   ],
   "source": [
    "# from sklearn.datasets import make_classification\n",
    "\n",
    "average_type = 'macro'\n",
    "# Test the model on new data\n",
    "y_pred = loaded_svm_model.predict(X_new_vectorized)\n",
    "accuracy = accuracy_score(y_new, y_pred)\n",
    "\n",
    "print(f\"Accuracy: {accuracy:.2f}\")\n",
    "print(\"f1score: \",f1_score(y_new, y_pred, average=average_type))\n",
    "print(\"precision: \",precision_score(y_new, y_pred, average=average_type))\n",
    "print(\"recall: \",recall_score(y_new, y_pred, average=average_type))"
   ]
  },
  {
   "cell_type": "code",
   "execution_count": 51,
   "id": "d2ca915d",
   "metadata": {
    "ExecuteTime": {
     "end_time": "2023-06-04T15:13:30.045838Z",
     "start_time": "2023-06-04T15:13:30.037003Z"
    }
   },
   "outputs": [
    {
     "name": "stdout",
     "output_type": "stream",
     "text": [
      "f1score:  0.7200081749437972\n",
      "precision:  0.7485369850187266\n",
      "recall:  0.7262773722627738\n"
     ]
    }
   ],
   "source": [
    "from sklearn.datasets import make_classification\n",
    "from sklearn.metrics import accuracy_score, f1_score, precision_score, recall_score, classification_report, confusion_matrix\n",
    "\n",
    "\n",
    "print(\"f1score: \",f1_score(y_new, y_pred, average=\"macro\"))\n",
    "print(\"precision: \",precision_score(y_new, y_pred, average=\"macro\"))\n",
    "print(\"recall: \",recall_score(y_new, y_pred, average=\"macro\"))"
   ]
  },
  {
   "cell_type": "code",
   "execution_count": 58,
   "id": "ac1bd97b",
   "metadata": {
    "ExecuteTime": {
     "end_time": "2023-06-04T15:38:45.845420Z",
     "start_time": "2023-06-04T15:38:45.661446Z"
    }
   },
   "outputs": [
    {
     "data": {
      "image/png": "[encoded data removed]",
      "text/plain": [
       "<Figure size 640x480 with 1 Axes>"
      ]
     },
     "metadata": {},
     "output_type": "display_data"
    }
   ],
   "source": [
    "import matplotlib.pyplot as plt\n",
    "from sklearn.metrics import precision_recall_curve\n",
    "\n",
    "# Compute precision and recall\n",
    "precision, recall, thresholds = precision_recall_curve(y_new, y_pred)\n",
    "\n",
    "# Plot the Precision-Recall curve\n",
    "\n",
    "plt.plot(recall, precision)\n",
    "plt.xlabel('Recall')\n",
    "plt.ylabel('Precision')\n",
    "plt.title('Precision-Recall Curve')\n",
    "plt.grid(True)\n",
    "plt.show()\n"
   ]
  },
  {
   "cell_type": "code",
   "execution_count": null,
   "id": "64a2af06",
   "metadata": {},
   "outputs": [],
   "source": []
  }
 ],
 "metadata": {
  "kernelspec": {
   "display_name": "Python 3 (ipykernel)",
   "language": "python",
   "name": "python3"
  },
  "language_info": {
   "codemirror_mode": {
    "name": "ipython",
    "version": 3
   },
   "file_extension": ".py",
   "mimetype": "text/x-python",
   "name": "python",
   "nbconvert_exporter": "python",
   "pygments_lexer": "ipython3",
   "version": "3.8.2"
  }
 },
 "nbformat": 4,
 "nbformat_minor": 5
}
