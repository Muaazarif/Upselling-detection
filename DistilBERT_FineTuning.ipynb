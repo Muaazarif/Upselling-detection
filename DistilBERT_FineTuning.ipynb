{
 "cells": [
  {
   "cell_type": "markdown",
   "id": "3ef8cd36",
   "metadata": {},
   "source": [
    "# Fine Tuning"
   ]
  },
  {
   "cell_type": "markdown",
   "id": "e81eced7",
   "metadata": {},
   "source": [
    "### Training"
   ]
  },
  {
   "cell_type": "code",
   "execution_count": 4,
   "id": "498e6adc",
   "metadata": {
    "ExecuteTime": {
     "end_time": "2023-06-04T16:09:32.099501Z",
     "start_time": "2023-06-04T16:09:29.390648Z"
    }
   },
   "outputs": [],
   "source": [
    "import os\n",
    "os.environ[\"CUDA_VISIBLE_DEVICES\"]=\"1\"\n",
    "\n",
    "import random\n",
    "import tensorflow as tf\n",
    "from IPython.display import clear_output\n",
    "from transformers import DistilBertTokenizerFast\n",
    "from transformers import TFDistilBertForSequenceClassification\n",
    "\n",
    "clear_output(wait=False)"
   ]
  },
  {
   "cell_type": "code",
   "execution_count": 12,
   "id": "23b7fe03",
   "metadata": {
    "ExecuteTime": {
     "end_time": "2023-06-04T16:10:17.499353Z",
     "start_time": "2023-06-04T16:10:17.297393Z"
    }
   },
   "outputs": [],
   "source": [
    "from pathlib import Path\n",
    "\n",
    "def read_imdb_split(split_dir, min_range):\n",
    "    split_dir = Path(split_dir)\n",
    "    texts = []\n",
    "    labels = []\n",
    "    for label_dir in [\"upselling\", \"not_upselling\"]:\n",
    "        count=0\n",
    "        for text_file in (split_dir/label_dir).iterdir():\n",
    "            if str(text_file).endswith(\".txt\"):\n",
    "                count+=1\n",
    "                text = text_file.read_text()\n",
    "                text = \"\".join([i for i in text if i.isalpha() or i==\" \"])\n",
    "                texts.append(text)\n",
    "                if label_dir == \"upselling\":\n",
    "                    labels.append(0)\n",
    "                elif label_dir == \"not_upselling\":\n",
    "                    labels.append(1)\n",
    "                    \n",
    "                if count==min_range:\n",
    "                    break\n",
    "\n",
    "    return texts, labels\n",
    "\n",
    "training_sentences, training_labels = read_imdb_split(\"upselling_masked_data/training\", 523)\n",
    "validation_sentences, validation_labels = read_imdb_split(\"upselling_masked_data/validation\", 120)"
   ]
  },
  {
   "cell_type": "code",
   "execution_count": 13,
   "id": "13498dff",
   "metadata": {
    "ExecuteTime": {
     "end_time": "2023-06-04T16:10:17.509696Z",
     "start_time": "2023-06-04T16:10:17.502276Z"
    }
   },
   "outputs": [],
   "source": [
    "shuffle_train_sent = list(zip(training_sentences, training_labels))\n",
    "random.shuffle(shuffle_train_sent)\n",
    "training_sentences, training_labels = zip(*shuffle_train_sent)\n",
    "training_sentences = list(training_sentences)\n",
    "training_labels = list(training_labels)\n",
    "\n",
    "shuffle_val_sent = list(zip(validation_sentences, validation_labels))\n",
    "random.shuffle(shuffle_val_sent)\n",
    "validation_sentences, validation_labels = zip(*shuffle_val_sent)\n",
    "validation_sentences = list(validation_sentences)\n",
    "validation_labels = list(validation_labels)"
   ]
  },
  {
   "cell_type": "code",
   "execution_count": 14,
   "id": "12711421",
   "metadata": {
    "ExecuteTime": {
     "end_time": "2023-06-04T16:10:17.517232Z",
     "start_time": "2023-06-04T16:10:17.513657Z"
    }
   },
   "outputs": [
    {
     "name": "stdout",
     "output_type": "stream",
     "text": [
      "1046 219\n"
     ]
    }
   ],
   "source": [
    "print(len(training_sentences),len(validation_sentences))"
   ]
  },
  {
   "cell_type": "code",
   "execution_count": 8,
   "id": "1a465262",
   "metadata": {
    "ExecuteTime": {
     "end_time": "2023-06-04T16:09:36.571097Z",
     "start_time": "2023-06-04T16:09:36.309096Z"
    }
   },
   "outputs": [],
   "source": [
    "tokenizer = DistilBertTokenizerFast.from_pretrained('distilbert-base-uncased')"
   ]
  },
  {
   "cell_type": "code",
   "execution_count": 6,
   "id": "0ce8e54a",
   "metadata": {
    "ExecuteTime": {
     "end_time": "2023-04-13T21:10:40.056589Z",
     "start_time": "2023-04-13T21:10:39.709775Z"
    }
   },
   "outputs": [],
   "source": [
    "train_encodings = tokenizer(training_sentences,\n",
    "                            truncation=True,\n",
    "                            padding=True)\n",
    "val_encodings = tokenizer(validation_sentences,\n",
    "                            truncation=True,\n",
    "                            padding=True)"
   ]
  },
  {
   "cell_type": "code",
   "execution_count": 7,
   "id": "ac6ae89c",
   "metadata": {
    "ExecuteTime": {
     "end_time": "2023-04-13T21:10:46.748137Z",
     "start_time": "2023-04-13T21:10:40.511556Z"
    }
   },
   "outputs": [],
   "source": [
    "train_dataset = tf.data.Dataset.from_tensor_slices((\n",
    "    dict(train_encodings),\n",
    "    training_labels\n",
    "))\n",
    "val_dataset = tf.data.Dataset.from_tensor_slices((\n",
    "    dict(val_encodings),\n",
    "    validation_labels\n",
    "))\n",
    "\n",
    "clear_output(wait=False)"
   ]
  },
  {
   "cell_type": "code",
   "execution_count": 8,
   "id": "85918b79",
   "metadata": {
    "ExecuteTime": {
     "end_time": "2023-04-13T21:10:48.335160Z",
     "start_time": "2023-04-13T21:10:46.751760Z"
    }
   },
   "outputs": [],
   "source": [
    "# We classify two labels in this example. In case of multiclass \n",
    "# classification, adjust num_labels value\n",
    "model = TFDistilBertForSequenceClassification.from_pretrained('distilbert-base-uncased', num_labels=2)\n",
    "clear_output(wait=False)"
   ]
  },
  {
   "cell_type": "code",
   "execution_count": 12,
   "id": "4adc3919",
   "metadata": {
    "ExecuteTime": {
     "end_time": "2023-04-13T21:33:43.933096Z",
     "start_time": "2023-04-13T21:11:01.890009Z"
    },
    "scrolled": false
   },
   "outputs": [
    {
     "name": "stdout",
     "output_type": "stream",
     "text": [
      "Epoch 1/20\n",
      "WARNING:tensorflow:AutoGraph could not transform <function Model.make_train_function.<locals>.train_function at 0x7f6137aa78c0> and will run it as-is.\n",
      "Please report this to the TensorFlow team. When filing the bug, set the verbosity to 10 (on Linux, `export AUTOGRAPH_VERBOSITY=10`) and attach the full output.\n",
      "Cause: 'arguments' object has no attribute 'posonlyargs'\n",
      "To silence this warning, decorate the function with @tf.autograph.experimental.do_not_convert\n",
      "WARNING: AutoGraph could not transform <function Model.make_train_function.<locals>.train_function at 0x7f6137aa78c0> and will run it as-is.\n",
      "Please report this to the TensorFlow team. When filing the bug, set the verbosity to 10 (on Linux, `export AUTOGRAPH_VERBOSITY=10`) and attach the full output.\n",
      "Cause: 'arguments' object has no attribute 'posonlyargs'\n",
      "To silence this warning, decorate the function with @tf.autograph.experimental.do_not_convert\n",
      "WARNING:tensorflow:AutoGraph could not transform <bound method TFDistilBertForSequenceClassification.call of <transformers.models.distilbert.modeling_tf_distilbert.TFDistilBertForSequenceClassification object at 0x7f6137b3f290>> and will run it as-is.\n",
      "Please report this to the TensorFlow team. When filing the bug, set the verbosity to 10 (on Linux, `export AUTOGRAPH_VERBOSITY=10`) and attach the full output.\n",
      "Cause: 'arguments' object has no attribute 'posonlyargs'\n",
      "To silence this warning, decorate the function with @tf.autograph.experimental.do_not_convert\n",
      "WARNING: AutoGraph could not transform <bound method TFDistilBertForSequenceClassification.call of <transformers.models.distilbert.modeling_tf_distilbert.TFDistilBertForSequenceClassification object at 0x7f6137b3f290>> and will run it as-is.\n",
      "Please report this to the TensorFlow team. When filing the bug, set the verbosity to 10 (on Linux, `export AUTOGRAPH_VERBOSITY=10`) and attach the full output.\n",
      "Cause: 'arguments' object has no attribute 'posonlyargs'\n",
      "To silence this warning, decorate the function with @tf.autograph.experimental.do_not_convert\n",
      "WARNING:tensorflow:AutoGraph could not transform <bound method TFDistilBertMainLayer.call of <transformers.models.distilbert.modeling_tf_distilbert.TFDistilBertMainLayer object at 0x7f6137b3f7d0>> and will run it as-is.\n",
      "Please report this to the TensorFlow team. When filing the bug, set the verbosity to 10 (on Linux, `export AUTOGRAPH_VERBOSITY=10`) and attach the full output.\n",
      "Cause: 'arguments' object has no attribute 'posonlyargs'\n",
      "To silence this warning, decorate the function with @tf.autograph.experimental.do_not_convert\n",
      "WARNING: AutoGraph could not transform <bound method TFDistilBertMainLayer.call of <transformers.models.distilbert.modeling_tf_distilbert.TFDistilBertMainLayer object at 0x7f6137b3f7d0>> and will run it as-is.\n",
      "Please report this to the TensorFlow team. When filing the bug, set the verbosity to 10 (on Linux, `export AUTOGRAPH_VERBOSITY=10`) and attach the full output.\n",
      "Cause: 'arguments' object has no attribute 'posonlyargs'\n",
      "To silence this warning, decorate the function with @tf.autograph.experimental.do_not_convert\n",
      "WARNING:tensorflow:AutoGraph could not transform <bound method TFEmbeddings.call of <transformers.models.distilbert.modeling_tf_distilbert.TFEmbeddings object at 0x7f6136dd2d90>> and will run it as-is.\n",
      "Please report this to the TensorFlow team. When filing the bug, set the verbosity to 10 (on Linux, `export AUTOGRAPH_VERBOSITY=10`) and attach the full output.\n",
      "Cause: module 'gast' has no attribute 'Constant'\n",
      "To silence this warning, decorate the function with @tf.autograph.experimental.do_not_convert\n",
      "WARNING: AutoGraph could not transform <bound method TFEmbeddings.call of <transformers.models.distilbert.modeling_tf_distilbert.TFEmbeddings object at 0x7f6136dd2d90>> and will run it as-is.\n",
      "Please report this to the TensorFlow team. When filing the bug, set the verbosity to 10 (on Linux, `export AUTOGRAPH_VERBOSITY=10`) and attach the full output.\n",
      "Cause: module 'gast' has no attribute 'Constant'\n",
      "To silence this warning, decorate the function with @tf.autograph.experimental.do_not_convert\n",
      "WARNING:tensorflow:AutoGraph could not transform <bound method TFTransformer.call of <transformers.models.distilbert.modeling_tf_distilbert.TFTransformer object at 0x7f612c6a5290>> and will run it as-is.\n",
      "Please report this to the TensorFlow team. When filing the bug, set the verbosity to 10 (on Linux, `export AUTOGRAPH_VERBOSITY=10`) and attach the full output.\n",
      "Cause: module 'gast' has no attribute 'Constant'\n",
      "To silence this warning, decorate the function with @tf.autograph.experimental.do_not_convert\n",
      "WARNING: AutoGraph could not transform <bound method TFTransformer.call of <transformers.models.distilbert.modeling_tf_distilbert.TFTransformer object at 0x7f612c6a5290>> and will run it as-is.\n",
      "Please report this to the TensorFlow team. When filing the bug, set the verbosity to 10 (on Linux, `export AUTOGRAPH_VERBOSITY=10`) and attach the full output.\n",
      "Cause: module 'gast' has no attribute 'Constant'\n",
      "To silence this warning, decorate the function with @tf.autograph.experimental.do_not_convert\n",
      "WARNING:tensorflow:AutoGraph could not transform <bound method TFTransformerBlock.call of <transformers.models.distilbert.modeling_tf_distilbert.TFTransformerBlock object at 0x7f612c6a5650>> and will run it as-is.\n",
      "Please report this to the TensorFlow team. When filing the bug, set the verbosity to 10 (on Linux, `export AUTOGRAPH_VERBOSITY=10`) and attach the full output.\n",
      "Cause: module 'gast' has no attribute 'Constant'\n",
      "To silence this warning, decorate the function with @tf.autograph.experimental.do_not_convert\n",
      "WARNING: AutoGraph could not transform <bound method TFTransformerBlock.call of <transformers.models.distilbert.modeling_tf_distilbert.TFTransformerBlock object at 0x7f612c6a5650>> and will run it as-is.\n",
      "Please report this to the TensorFlow team. When filing the bug, set the verbosity to 10 (on Linux, `export AUTOGRAPH_VERBOSITY=10`) and attach the full output.\n",
      "Cause: module 'gast' has no attribute 'Constant'\n",
      "To silence this warning, decorate the function with @tf.autograph.experimental.do_not_convert\n",
      "WARNING:tensorflow:AutoGraph could not transform <bound method TFMultiHeadSelfAttention.call of <transformers.models.distilbert.modeling_tf_distilbert.TFMultiHeadSelfAttention object at 0x7f612c6a5b10>> and will run it as-is.\n",
      "Please report this to the TensorFlow team. When filing the bug, set the verbosity to 10 (on Linux, `export AUTOGRAPH_VERBOSITY=10`) and attach the full output.\n",
      "Cause: module 'gast' has no attribute 'Constant'\n",
      "To silence this warning, decorate the function with @tf.autograph.experimental.do_not_convert\n",
      "WARNING: AutoGraph could not transform <bound method TFMultiHeadSelfAttention.call of <transformers.models.distilbert.modeling_tf_distilbert.TFMultiHeadSelfAttention object at 0x7f612c6a5b10>> and will run it as-is.\n",
      "Please report this to the TensorFlow team. When filing the bug, set the verbosity to 10 (on Linux, `export AUTOGRAPH_VERBOSITY=10`) and attach the full output.\n",
      "Cause: module 'gast' has no attribute 'Constant'\n",
      "To silence this warning, decorate the function with @tf.autograph.experimental.do_not_convert\n",
      "WARNING:tensorflow:AutoGraph could not transform <bound method TFFFN.call of <transformers.models.distilbert.modeling_tf_distilbert.TFFFN object at 0x7f612c68f750>> and will run it as-is.\n",
      "Please report this to the TensorFlow team. When filing the bug, set the verbosity to 10 (on Linux, `export AUTOGRAPH_VERBOSITY=10`) and attach the full output.\n",
      "Cause: 'arguments' object has no attribute 'posonlyargs'\n",
      "To silence this warning, decorate the function with @tf.autograph.experimental.do_not_convert\n",
      "WARNING: AutoGraph could not transform <bound method TFFFN.call of <transformers.models.distilbert.modeling_tf_distilbert.TFFFN object at 0x7f612c68f750>> and will run it as-is.\n",
      "Please report this to the TensorFlow team. When filing the bug, set the verbosity to 10 (on Linux, `export AUTOGRAPH_VERBOSITY=10`) and attach the full output.\n",
      "Cause: 'arguments' object has no attribute 'posonlyargs'\n",
      "To silence this warning, decorate the function with @tf.autograph.experimental.do_not_convert\n",
      "WARNING:tensorflow:AutoGraph could not transform <bound method TFSequenceClassificationLoss.hf_compute_loss of <transformers.models.distilbert.modeling_tf_distilbert.TFDistilBertForSequenceClassification object at 0x7f6137b3f290>> and will run it as-is.\n",
      "Please report this to the TensorFlow team. When filing the bug, set the verbosity to 10 (on Linux, `export AUTOGRAPH_VERBOSITY=10`) and attach the full output.\n",
      "Cause: module 'gast' has no attribute 'Constant'\n",
      "To silence this warning, decorate the function with @tf.autograph.experimental.do_not_convert\n",
      "WARNING: AutoGraph could not transform <bound method TFSequenceClassificationLoss.hf_compute_loss of <transformers.models.distilbert.modeling_tf_distilbert.TFDistilBertForSequenceClassification object at 0x7f6137b3f290>> and will run it as-is.\n",
      "Please report this to the TensorFlow team. When filing the bug, set the verbosity to 10 (on Linux, `export AUTOGRAPH_VERBOSITY=10`) and attach the full output.\n",
      "Cause: module 'gast' has no attribute 'Constant'\n",
      "To silence this warning, decorate the function with @tf.autograph.experimental.do_not_convert\n",
      "66/66 [==============================] - ETA: 0s - loss: 0.5153 - accuracy: 0.7469WARNING:tensorflow:AutoGraph could not transform <function Model.make_test_function.<locals>.test_function at 0x7f606d7e6c20> and will run it as-is.\n",
      "Please report this to the TensorFlow team. When filing the bug, set the verbosity to 10 (on Linux, `export AUTOGRAPH_VERBOSITY=10`) and attach the full output.\n",
      "Cause: 'arguments' object has no attribute 'posonlyargs'\n",
      "To silence this warning, decorate the function with @tf.autograph.experimental.do_not_convert\n",
      "WARNING: AutoGraph could not transform <function Model.make_test_function.<locals>.test_function at 0x7f606d7e6c20> and will run it as-is.\n",
      "Please report this to the TensorFlow team. When filing the bug, set the verbosity to 10 (on Linux, `export AUTOGRAPH_VERBOSITY=10`) and attach the full output.\n",
      "Cause: 'arguments' object has no attribute 'posonlyargs'\n",
      "To silence this warning, decorate the function with @tf.autograph.experimental.do_not_convert\n"
     ]
    },
    {
     "name": "stderr",
     "output_type": "stream",
     "text": [
      "2023-04-13 21:12:13.325026: W tensorflow/core/framework/cpu_allocator_impl.cc:82] Allocation of 5625815040 exceeds 10% of free system memory.\n",
      "2023-04-13 21:12:16.756331: W tensorflow/core/framework/cpu_allocator_impl.cc:82] Allocation of 566231040 exceeds 10% of free system memory.\n",
      "2023-04-13 21:12:17.005115: W tensorflow/core/framework/cpu_allocator_impl.cc:82] Allocation of 566231040 exceeds 10% of free system memory.\n",
      "2023-04-13 21:12:17.482254: W tensorflow/core/framework/cpu_allocator_impl.cc:82] Allocation of 566231040 exceeds 10% of free system memory.\n",
      "2023-04-13 21:12:17.719537: W tensorflow/core/framework/cpu_allocator_impl.cc:82] Allocation of 566231040 exceeds 10% of free system memory.\n"
     ]
    },
    {
     "name": "stdout",
     "output_type": "stream",
     "text": [
      "66/66 [==============================] - 79s 1s/step - loss: 0.5153 - accuracy: 0.7469 - val_loss: 0.2636 - val_accuracy: 0.9041\n",
      "Epoch 2/20\n",
      "66/66 [==============================] - 67s 1s/step - loss: 0.1764 - accuracy: 0.9351 - val_loss: 0.0985 - val_accuracy: 0.9726\n",
      "Epoch 3/20\n",
      "66/66 [==============================] - 68s 1s/step - loss: 0.0763 - accuracy: 0.9761 - val_loss: 0.0766 - val_accuracy: 0.9726\n",
      "Epoch 4/20\n",
      "66/66 [==============================] - 68s 1s/step - loss: 0.0355 - accuracy: 0.9876 - val_loss: 0.0916 - val_accuracy: 0.9772\n",
      "Epoch 5/20\n",
      "66/66 [==============================] - 68s 1s/step - loss: 0.0507 - accuracy: 0.9828 - val_loss: 0.1092 - val_accuracy: 0.9635\n",
      "Epoch 6/20\n",
      "66/66 [==============================] - 67s 1s/step - loss: 0.0418 - accuracy: 0.9885 - val_loss: 0.1111 - val_accuracy: 0.9726\n",
      "Epoch 7/20\n",
      "66/66 [==============================] - 67s 1s/step - loss: 0.0058 - accuracy: 0.9990 - val_loss: 0.1057 - val_accuracy: 0.9680\n",
      "Epoch 8/20\n",
      "66/66 [==============================] - 67s 1s/step - loss: 0.0101 - accuracy: 0.9971 - val_loss: 0.1061 - val_accuracy: 0.9635\n",
      "Epoch 9/20\n",
      "66/66 [==============================] - 68s 1s/step - loss: 0.0134 - accuracy: 0.9962 - val_loss: 0.3695 - val_accuracy: 0.9361\n",
      "Epoch 10/20\n",
      "66/66 [==============================] - 67s 1s/step - loss: 0.0190 - accuracy: 0.9933 - val_loss: 0.2249 - val_accuracy: 0.9452\n",
      "Epoch 11/20\n",
      "66/66 [==============================] - 67s 1s/step - loss: 0.0166 - accuracy: 0.9971 - val_loss: 0.1737 - val_accuracy: 0.9589\n",
      "Epoch 12/20\n",
      "66/66 [==============================] - 68s 1s/step - loss: 0.0303 - accuracy: 0.9904 - val_loss: 0.1149 - val_accuracy: 0.9680\n",
      "Epoch 13/20\n",
      "66/66 [==============================] - 68s 1s/step - loss: 0.0021 - accuracy: 0.9990 - val_loss: 0.1939 - val_accuracy: 0.9452\n",
      "Epoch 14/20\n",
      "66/66 [==============================] - 67s 1s/step - loss: 0.0282 - accuracy: 0.9933 - val_loss: 0.1405 - val_accuracy: 0.9635\n",
      "Epoch 15/20\n",
      "66/66 [==============================] - 67s 1s/step - loss: 0.0153 - accuracy: 0.9962 - val_loss: 0.2111 - val_accuracy: 0.9498\n",
      "Epoch 16/20\n",
      "66/66 [==============================] - 67s 1s/step - loss: 0.0163 - accuracy: 0.9952 - val_loss: 0.0960 - val_accuracy: 0.9635\n",
      "Epoch 17/20\n",
      "66/66 [==============================] - 68s 1s/step - loss: 0.0062 - accuracy: 0.9971 - val_loss: 0.1105 - val_accuracy: 0.9680\n",
      "Epoch 18/20\n",
      "66/66 [==============================] - 68s 1s/step - loss: 0.0014 - accuracy: 1.0000 - val_loss: 0.1448 - val_accuracy: 0.9680\n",
      "Epoch 19/20\n",
      "66/66 [==============================] - 67s 1s/step - loss: 3.4171e-04 - accuracy: 1.0000 - val_loss: 0.1354 - val_accuracy: 0.9726\n",
      "Epoch 20/20\n",
      "66/66 [==============================] - 67s 1s/step - loss: 6.7184e-04 - accuracy: 1.0000 - val_loss: 0.0923 - val_accuracy: 0.9772\n"
     ]
    },
    {
     "data": {
      "image/png": "[encoded data removed]",
      "text/plain": [
       "<Figure size 640x480 with 1 Axes>"
      ]
     },
     "metadata": {},
     "output_type": "display_data"
    }
   ],
   "source": [
    "import tensorflow as tf\n",
    "import matplotlib.pyplot as plt\n",
    "from datetime import datetime\n",
    "\n",
    "callbacks = [\n",
    "    tf.keras.callbacks.ModelCheckpoint(\"distilbert_weights/tf_model-epoch:{epoch:02d}-loss{val_loss:.2f}.h5\", monitor=\"val_loss\", verbose=0,\n",
    "            save_best_only=True, save_weights_only=True, mode=\"auto\", save_freq=\"epoch\", options=None),\n",
    "    tf.keras.callbacks.TensorBoard(log_dir=f\"logs/fit/{datetime.now().strftime('%Y%m%d-%H%M%S')}\", histogram_freq=1, write_graph=True)\n",
    "]\n",
    "optimizer = tf.keras.optimizers.Adam(learning_rate=5e-5)\n",
    "model.compile(optimizer=optimizer, loss=model.hf_compute_loss, metrics=['accuracy'])\n",
    "history = model.fit(train_dataset.shuffle(1).batch(16),\n",
    "          epochs=20,\n",
    "          batch_size=16,\n",
    "          validation_data=val_dataset.shuffle(1).batch(16), \n",
    "          callbacks=callbacks)\n",
    "\n",
    "# Plotting the training and validation loss\n",
    "plt.plot(history.history['loss'])\n",
    "plt.plot(history.history['val_loss'])\n",
    "plt.title('Model loss')\n",
    "plt.ylabel('Loss')\n",
    "plt.xlabel('Epoch')\n",
    "plt.legend(['Train', 'Validation'], loc='upper right')\n",
    "plt.show()\n"
   ]
  },
  {
   "cell_type": "code",
   "execution_count": 13,
   "id": "1b596dda",
   "metadata": {
    "ExecuteTime": {
     "end_time": "2023-04-13T22:10:15.017117Z",
     "start_time": "2023-04-13T22:10:14.543922Z"
    }
   },
   "outputs": [],
   "source": [
    "model.save_pretrained(\"distilbert_weights/tf_model\")"
   ]
  },
  {
   "cell_type": "code",
   "execution_count": null,
   "id": "679cf21f",
   "metadata": {},
   "outputs": [],
   "source": []
  }
 ],
 "metadata": {
  "kernelspec": {
   "display_name": "Python 3 (ipykernel)",
   "language": "python",
   "name": "python3"
  },
  "language_info": {
   "codemirror_mode": {
    "name": "ipython",
    "version": 3
   },
   "file_extension": ".py",
   "mimetype": "text/x-python",
   "name": "python",
   "nbconvert_exporter": "python",
   "pygments_lexer": "ipython3",
   "version": "3.8.2"
  }
 },
 "nbformat": 4,
 "nbformat_minor": 5
}
