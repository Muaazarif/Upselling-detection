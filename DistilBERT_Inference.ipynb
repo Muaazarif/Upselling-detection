{
 "cells": [
  {
   "cell_type": "markdown",
   "id": "f2f42e97",
   "metadata": {},
   "source": [
    "### On Testing Data"
   ]
  },
  {
   "cell_type": "code",
   "execution_count": 11,
   "id": "5d2b00c0",
   "metadata": {
    "ExecuteTime": {
     "end_time": "2023-06-04T16:08:14.286472Z",
     "start_time": "2023-06-04T16:08:14.280118Z"
    }
   },
   "outputs": [],
   "source": [
    "import os\n",
    "os.environ[\"CUDA_VISIBLE_DEVICES\"]=\"2\"\n",
    "import warnings\n",
    "warnings.filterwarnings('ignore', category=DeprecationWarning)\n",
    "warnings.filterwarnings('ignore', category=FutureWarning)\n",
    "import tensorflow as tf\n",
    "tf.compat.v1.logging.set_verbosity(tf.compat.v1.logging.ERROR)\n",
    "\n",
    "\n",
    "import tensorflow as tf\n",
    "from IPython.display import clear_output\n",
    "from transformers import DistilBertTokenizerFast\n",
    "from transformers import TFDistilBertForSequenceClassification\n",
    "import numpy as np\n",
    "import random\n",
    "\n",
    "\n",
    "np.random.seed(10) \n",
    "random.seed(10)"
   ]
  },
  {
   "cell_type": "code",
   "execution_count": 12,
   "id": "d3a7bf73",
   "metadata": {
    "ExecuteTime": {
     "end_time": "2023-06-04T16:08:16.039216Z",
     "start_time": "2023-06-04T16:08:14.542563Z"
    }
   },
   "outputs": [],
   "source": [
    "loaded_model = TFDistilBertForSequenceClassification.from_pretrained(\"tf_model\")\n",
    "tokenizer = DistilBertTokenizerFast.from_pretrained('distilbert-base-uncased')\n",
    "\n",
    "clear_output(wait=False)"
   ]
  },
  {
   "cell_type": "code",
   "execution_count": 13,
   "id": "d7148221",
   "metadata": {
    "ExecuteTime": {
     "end_time": "2023-06-04T16:08:16.047598Z",
     "start_time": "2023-06-04T16:08:16.041814Z"
    }
   },
   "outputs": [],
   "source": [
    "def inference(text, model, tokenizer):\n",
    "    agent_text = text\n",
    "    classes = {0:\"upselling\", 1:\"not_upselling\"}\n",
    "    predict_input = tokenizer.encode(agent_text,\n",
    "                                      truncation=True,\n",
    "                                      padding=True,\n",
    "                                      return_tensors=\"tf\")\n",
    "\n",
    "    tf_output = model.predict(predict_input,verbose=0)[0]\n",
    "    tf_prediction = tf.nn.softmax(tf_output, axis=1).numpy()[0]\n",
    "    pred_ind = list(tf_prediction).index(tf_prediction.max())\n",
    "    pred_ups = classes[pred_ind]\n",
    "    conf = tf_prediction[list(tf_prediction).index(tf_prediction.max())]\n",
    "\n",
    "    return pred_ups"
   ]
  },
  {
   "cell_type": "code",
   "execution_count": 19,
   "id": "352708d6",
   "metadata": {
    "ExecuteTime": {
     "end_time": "2023-06-04T16:09:19.833805Z",
     "start_time": "2023-06-04T16:08:18.161411Z"
    },
    "scrolled": true
   },
   "outputs": [
    {
     "name": "stdout",
     "output_type": "stream",
     "text": [
      "WARNING: AutoGraph could not transform <function Model.make_predict_function.<locals>.predict_function at 0x7fda6856ac20> and will run it as-is.\n",
      "Please report this to the TensorFlow team. When filing the bug, set the verbosity to 10 (on Linux, `export AUTOGRAPH_VERBOSITY=10`) and attach the full output.\n",
      "Cause: 'arguments' object has no attribute 'posonlyargs'\n",
      "To silence this warning, decorate the function with @tf.autograph.experimental.do_not_convert\n",
      "/home/ai/personal_workspace/muaaz/upselling/dataset/upselling_masked_data_refined/testing_balanced/not_upselling/1d49e871-0210-4a26-837a-f370c12062db.txt\n",
      "/home/ai/personal_workspace/muaaz/upselling/dataset/upselling_masked_data_refined/testing_balanced/not_upselling/02da5ef7-e2b4-422c-b266-c49783d1ad96.txt\n",
      "/home/ai/personal_workspace/muaaz/upselling/dataset/upselling_masked_data_refined/testing_balanced/not_upselling/1b7ddb4d-b827-4792-b4b4-8bbad8ece08a.txt\n",
      "/home/ai/personal_workspace/muaaz/upselling/dataset/upselling_masked_data_refined/testing_balanced/not_upselling/0b70d4e3-8bb1-4aaa-849c-15bf4a27ece2.txt\n",
      "/home/ai/personal_workspace/muaaz/upselling/dataset/upselling_masked_data_refined/testing_balanced/not_upselling/0e9c747f-daab-49f2-af82-bb3813caec44.txt\n",
      "/home/ai/personal_workspace/muaaz/upselling/dataset/upselling_masked_data_refined/testing_balanced/not_upselling/1d2e6217-a091-4371-9dd3-c4186d87c421.txt\n",
      "/home/ai/personal_workspace/muaaz/upselling/dataset/upselling_masked_data_refined/testing_balanced/not_upselling/03b1e032-e4b4-472f-b06e-74d24d17d98e.txt\n",
      "/home/ai/personal_workspace/muaaz/upselling/dataset/upselling_masked_data_refined/testing_balanced/not_upselling/0f485ec6-12a9-47ff-84f9-3fe3fe66fc46.txt\n"
     ]
    }
   ],
   "source": [
    "import warnings\n",
    "warnings.filterwarnings('ignore')\n",
    "\n",
    "import glob\n",
    "from tqdm.notebook import tqdm\n",
    "\n",
    "testing_dir = \"upselling_masked_datatesting_balanced/*/*.txt\"\n",
    "\n",
    "tokenizer = DistilBertTokenizerFast.from_pretrained('distilbert-base-uncased')\n",
    "def load_model(weight):\n",
    "    loaded_model = TFDistilBertForSequenceClassification.from_pretrained(weight)\n",
    "    return loaded_model\n",
    "\n",
    "upsell_classes = [\"upselling\", \"not_upselling\"]\n",
    "\n",
    "\n",
    "y_true = []\n",
    "y_pred = []\n",
    "\n",
    "\n",
    "for file in glob.glob(testing_dir):\n",
    "    ground=file.split('/')[-2]\n",
    "    with open(file, \"r\") as f:\n",
    "        text = f.read()\n",
    "\n",
    "    predicted = inference(text, loaded_model, tokenizer)\n",
    "        \n",
    "    y_true.append(ground)\n",
    "    y_pred.append(predicted)\n",
    "    \n",
    "    if ground=='not_upselling'and predicted=='upselling':\n",
    "        print(file)\n",
    "        "
   ]
  },
  {
   "cell_type": "code",
   "execution_count": 20,
   "id": "be4a3b6b",
   "metadata": {
    "ExecuteTime": {
     "end_time": "2023-06-04T16:09:19.852551Z",
     "start_time": "2023-06-04T16:09:19.836947Z"
    }
   },
   "outputs": [
    {
     "name": "stdout",
     "output_type": "stream",
     "text": [
      "Accuracy: 0.9598540145985401\n",
      "Precision: 0.9604673495518565\n",
      "Recall: 0.9598540145985401\n",
      "F1 Score: 0.9598406416969794\n"
     ]
    }
   ],
   "source": [
    "from sklearn.metrics import accuracy_score, precision_score, recall_score, f1_score\n",
    "\n",
    "average_type = 'macro'\n",
    "accuracy = accuracy_score(y_true, y_pred)\n",
    "precision = precision_score(y_true, y_pred, average=average_type)\n",
    "recall = recall_score(y_true, y_pred, average=average_type)\n",
    "f1 = f1_score(y_true, y_pred, average=average_type)\n",
    "\n",
    "print(\"Accuracy:\", accuracy)\n",
    "print(\"Precision:\", precision)\n",
    "print(\"Recall:\", recall)\n",
    "print(\"F1 Score:\", f1)"
   ]
  },
  {
   "cell_type": "code",
   "execution_count": 21,
   "id": "a6d42071",
   "metadata": {
    "ExecuteTime": {
     "end_time": "2023-06-04T16:09:21.035364Z",
     "start_time": "2023-06-04T16:09:19.855060Z"
    }
   },
   "outputs": [
    {
     "data": {
      "image/png": "[encoded data removed]",
      "text/plain": [
       "<Figure size 640x480 with 1 Axes>"
      ]
     },
     "metadata": {},
     "output_type": "display_data"
    }
   ],
   "source": [
    "import matplotlib.pyplot as plt\n",
    "from sklearn.metrics import precision_recall_curve\n",
    "\n",
    "label_mapping = {'not_upselling': 0, 'upselling': 1}\n",
    "y_true = [label_mapping.get(label, -1) for label in y_true]\n",
    "y_pred = [label_mapping.get(label, -1) for label in y_pred]\n",
    "\n",
    "\n",
    "\n",
    "# Compute precision and recall\n",
    "precision, recall, thresholds = precision_recall_curve(y_true, y_pred)\n",
    "\n",
    "# Plot the Precision-Recall curve\n",
    "plt.plot(recall, precision)\n",
    "plt.xlabel('Recall')\n",
    "plt.ylabel('Precision')\n",
    "plt.title('Precision-Recall Curve')\n",
    "plt.grid(True)\n",
    "plt.show()\n",
    "\n",
    "\n"
   ]
  }
 ],
 "metadata": {
  "kernelspec": {
   "display_name": "Python 3 (ipykernel)",
   "language": "python",
   "name": "python3"
  },
  "language_info": {
   "codemirror_mode": {
    "name": "ipython",
    "version": 3
   },
   "file_extension": ".py",
   "mimetype": "text/x-python",
   "name": "python",
   "nbconvert_exporter": "python",
   "pygments_lexer": "ipython3",
   "version": "3.8.2"
  }
 },
 "nbformat": 4,
 "nbformat_minor": 5
}
