{
 "cells": [
  {
   "cell_type": "code",
   "execution_count": 15,
   "id": "187fdc72",
   "metadata": {
    "ExecuteTime": {
     "end_time": "2023-06-04T15:14:26.949135Z",
     "start_time": "2023-06-04T15:14:26.943636Z"
    }
   },
   "outputs": [],
   "source": [
    "import os\n",
    "import numpy as np\n",
    "from keras.preprocessing.text import Tokenizer\n",
    "from tensorflow.keras.preprocessing.sequence import pad_sequences\n",
    "from keras.models import Sequential\n",
    "from keras.layers import Embedding, GlobalAveragePooling1D, Dense\n",
    "from sklearn.model_selection import train_test_split\n",
    "from sklearn.metrics import accuracy_score\n",
    "import matplotlib.pyplot as plt\n",
    "from keras.callbacks import ModelCheckpoint\n",
    "\n",
    "import glob\n",
    "import pickle\n",
    "np.random.seed(10) \n",
    "import random\n",
    "random.seed(10)"
   ]
  },
  {
   "cell_type": "code",
   "execution_count": 16,
   "id": "1f1b61b1",
   "metadata": {
    "ExecuteTime": {
     "end_time": "2023-06-04T15:14:27.202254Z",
     "start_time": "2023-06-04T15:14:27.198738Z"
    }
   },
   "outputs": [],
   "source": [
    "# Load and preprocess data\n",
    "def load_data(file_paths):\n",
    "    texts = []\n",
    "    for file_path in file_paths:\n",
    "        with open(file_path, 'r') as f:\n",
    "            texts.append(f.read())\n",
    "    return texts"
   ]
  },
  {
   "cell_type": "code",
   "execution_count": 17,
   "id": "e0eb9189",
   "metadata": {
    "ExecuteTime": {
     "end_time": "2023-06-04T15:14:27.724839Z",
     "start_time": "2023-06-04T15:14:27.709145Z"
    }
   },
   "outputs": [],
   "source": [
    "class1_files = glob.glob(\"upselling_masked_data/*/upselling/*.txt\")  # Array of file paths for class 1\n",
    "class2_files = glob.glob(\"upselling_masked_data/*/not_upselling/*.txt\")  # Array of file paths for class 2"
   ]
  },
  {
   "cell_type": "code",
   "execution_count": 18,
   "id": "e7735406",
   "metadata": {
    "ExecuteTime": {
     "end_time": "2023-06-04T15:14:28.996369Z",
     "start_time": "2023-06-04T15:14:28.983992Z"
    }
   },
   "outputs": [
    {
     "name": "stdout",
     "output_type": "stream",
     "text": [
      "523 120 137\n",
      "523 120 137\n"
     ]
    }
   ],
   "source": [
    "class1_files=[]\n",
    "class2_files=[]\n",
    "\n",
    "train_upsell=glob.glob('upselling_masked_data/training/upselling/*.txt')\n",
    "valid_upsell=glob.glob('upselling_masked_data/validation/upselling/*.txt')\n",
    "test_upsell=glob.glob('upselling_masked_data/testing_balanced/upselling/*.txt')\n",
    "\n",
    "train_not_upsell=glob.glob('upselling_masked_data/training/not_upselling/*.txt')\n",
    "valid_not_upsell=glob.glob('upselling_masked_data/validation/not_upselling/*.txt')\n",
    "test_not_upsell=glob.glob('upselling_masked_data/testing_balanced/not_upselling/*.txt')\n",
    "\n",
    "\n",
    "print(len(train_upsell),len(valid_upsell),len(test_upsell))\n",
    "print(len(train_not_upsell),len(valid_not_upsell),len(test_not_upsell))"
   ]
  },
  {
   "cell_type": "code",
   "execution_count": 19,
   "id": "828e3786",
   "metadata": {
    "ExecuteTime": {
     "end_time": "2023-06-04T15:14:29.278561Z",
     "start_time": "2023-06-04T15:14:29.274224Z"
    }
   },
   "outputs": [
    {
     "name": "stdout",
     "output_type": "stream",
     "text": [
      "643\n",
      "643\n"
     ]
    }
   ],
   "source": [
    "class1_files.extend(train_upsell)\n",
    "class1_files.extend(valid_upsell)\n",
    "\n",
    "class2_files.extend(train_not_upsell)\n",
    "class2_files.extend(valid_not_upsell)\n",
    "\n",
    "print(len(class1_files))\n",
    "print(len(class2_files))"
   ]
  },
  {
   "cell_type": "code",
   "execution_count": 7,
   "id": "42ac490b",
   "metadata": {
    "ExecuteTime": {
     "end_time": "2023-04-15T20:33:37.689220Z",
     "start_time": "2023-04-15T20:31:41.565467Z"
    },
    "scrolled": false
   },
   "outputs": [
    {
     "name": "stderr",
     "output_type": "stream",
     "text": [
      "2023-04-15 20:32:13.677654: I tensorflow/core/platform/cpu_feature_guard.cc:193] This TensorFlow binary is optimized with oneAPI Deep Neural Network Library (oneDNN) to use the following CPU instructions in performance-critical operations:  AVX2 FMA\n",
      "To enable them in other operations, rebuild TensorFlow with the appropriate compiler flags.\n",
      "2023-04-15 20:32:15.291616: I tensorflow/core/common_runtime/gpu/gpu_device.cc:1616] Created device /job:localhost/replica:0/task:0/device:GPU:0 with 7858 MB memory:  -> device: 0, name: Tesla T4, pci bus id: 0893:00:00.0, compute capability: 7.5\n",
      "2023-04-15 20:32:15.293026: I tensorflow/core/common_runtime/gpu/gpu_device.cc:1616] Created device /job:localhost/replica:0/task:0/device:GPU:1 with 357 MB memory:  -> device: 1, name: Tesla T4, pci bus id: a490:00:00.0, compute capability: 7.5\n"
     ]
    },
    {
     "name": "stdout",
     "output_type": "stream",
     "text": [
      "Epoch 1/30\n",
      "WARNING:tensorflow:AutoGraph could not transform <function Model.make_train_function.<locals>.train_function at 0x7f5baa3a9830> and will run it as-is.\n",
      "Please report this to the TensorFlow team. When filing the bug, set the verbosity to 10 (on Linux, `export AUTOGRAPH_VERBOSITY=10`) and attach the full output.\n",
      "Cause: 'arguments' object has no attribute 'posonlyargs'\n",
      "To silence this warning, decorate the function with @tf.autograph.experimental.do_not_convert\n",
      "WARNING: AutoGraph could not transform <function Model.make_train_function.<locals>.train_function at 0x7f5baa3a9830> and will run it as-is.\n",
      "Please report this to the TensorFlow team. When filing the bug, set the verbosity to 10 (on Linux, `export AUTOGRAPH_VERBOSITY=10`) and attach the full output.\n",
      "Cause: 'arguments' object has no attribute 'posonlyargs'\n",
      "To silence this warning, decorate the function with @tf.autograph.experimental.do_not_convert\n"
     ]
    },
    {
     "name": "stderr",
     "output_type": "stream",
     "text": [
      "2023-04-15 20:32:18.840728: I tensorflow/stream_executor/cuda/cuda_dnn.cc:384] Loaded cuDNN version 8600\n"
     ]
    },
    {
     "name": "stdout",
     "output_type": "stream",
     "text": [
      "33/33 [==============================] - ETA: 0s - loss: 0.6195 - acc: 0.6673WARNING:tensorflow:AutoGraph could not transform <function Model.make_test_function.<locals>.test_function at 0x7f5b98696a70> and will run it as-is.\n",
      "Please report this to the TensorFlow team. When filing the bug, set the verbosity to 10 (on Linux, `export AUTOGRAPH_VERBOSITY=10`) and attach the full output.\n",
      "Cause: 'arguments' object has no attribute 'posonlyargs'\n",
      "To silence this warning, decorate the function with @tf.autograph.experimental.do_not_convert\n",
      "WARNING: AutoGraph could not transform <function Model.make_test_function.<locals>.test_function at 0x7f5b98696a70> and will run it as-is.\n",
      "Please report this to the TensorFlow team. When filing the bug, set the verbosity to 10 (on Linux, `export AUTOGRAPH_VERBOSITY=10`) and attach the full output.\n",
      "Cause: 'arguments' object has no attribute 'posonlyargs'\n",
      "To silence this warning, decorate the function with @tf.autograph.experimental.do_not_convert\n",
      "33/33 [==============================] - 6s 95ms/step - loss: 0.6195 - acc: 0.6673 - val_loss: 1.7219 - val_acc: 0.0581\n",
      "Epoch 2/30\n",
      "33/33 [==============================] - 3s 79ms/step - loss: 0.5515 - acc: 0.7364 - val_loss: 1.4023 - val_acc: 0.1240\n",
      "Epoch 3/30\n",
      "33/33 [==============================] - 3s 79ms/step - loss: 0.5217 - acc: 0.7558 - val_loss: 0.9358 - val_acc: 0.4690\n",
      "Epoch 4/30\n",
      "33/33 [==============================] - 3s 78ms/step - loss: 0.4627 - acc: 0.7957 - val_loss: 1.6615 - val_acc: 0.2636\n",
      "Epoch 5/30\n",
      "33/33 [==============================] - 3s 80ms/step - loss: 0.4414 - acc: 0.8035 - val_loss: 1.0808 - val_acc: 0.5233\n",
      "Epoch 6/30\n",
      "33/33 [==============================] - 3s 78ms/step - loss: 0.3968 - acc: 0.8268 - val_loss: 1.1550 - val_acc: 0.3488\n",
      "Epoch 7/30\n",
      "33/33 [==============================] - 3s 78ms/step - loss: 0.3458 - acc: 0.8521 - val_loss: 0.6874 - val_acc: 0.6240\n",
      "Epoch 8/30\n",
      "33/33 [==============================] - 3s 77ms/step - loss: 0.3174 - acc: 0.8658 - val_loss: 0.7547 - val_acc: 0.6512\n",
      "Epoch 9/30\n",
      "33/33 [==============================] - 3s 78ms/step - loss: 0.2951 - acc: 0.8551 - val_loss: 1.5555 - val_acc: 0.5465\n",
      "Epoch 10/30\n",
      "33/33 [==============================] - 3s 78ms/step - loss: 0.2164 - acc: 0.9154 - val_loss: 1.4223 - val_acc: 0.5000\n",
      "Epoch 11/30\n",
      "33/33 [==============================] - 3s 79ms/step - loss: 0.1976 - acc: 0.9173 - val_loss: 0.8607 - val_acc: 0.6667\n",
      "Epoch 12/30\n",
      "33/33 [==============================] - 3s 78ms/step - loss: 0.1561 - acc: 0.9407 - val_loss: 1.1750 - val_acc: 0.6667\n",
      "Epoch 13/30\n",
      "33/33 [==============================] - 3s 79ms/step - loss: 0.1368 - acc: 0.9446 - val_loss: 0.2396 - val_acc: 0.9186\n",
      "Epoch 14/30\n",
      "33/33 [==============================] - 3s 78ms/step - loss: 0.1068 - acc: 0.9562 - val_loss: 0.9999 - val_acc: 0.7209\n",
      "Epoch 15/30\n",
      "33/33 [==============================] - 3s 79ms/step - loss: 0.0651 - acc: 0.9728 - val_loss: 1.6604 - val_acc: 0.6550\n",
      "Epoch 16/30\n",
      "33/33 [==============================] - 3s 79ms/step - loss: 0.0916 - acc: 0.9660 - val_loss: 0.9610 - val_acc: 0.7209\n",
      "Epoch 17/30\n",
      "33/33 [==============================] - 3s 79ms/step - loss: 0.0444 - acc: 0.9854 - val_loss: 1.1681 - val_acc: 0.7674\n",
      "Epoch 18/30\n",
      "33/33 [==============================] - 3s 77ms/step - loss: 0.0420 - acc: 0.9874 - val_loss: 1.0236 - val_acc: 0.7209\n",
      "Epoch 19/30\n",
      "33/33 [==============================] - 3s 79ms/step - loss: 0.0327 - acc: 0.9883 - val_loss: 1.4700 - val_acc: 0.7326\n",
      "Epoch 20/30\n",
      "33/33 [==============================] - 3s 78ms/step - loss: 0.0415 - acc: 0.9903 - val_loss: 1.2458 - val_acc: 0.7364\n",
      "Epoch 21/30\n",
      "33/33 [==============================] - 3s 78ms/step - loss: 0.0091 - acc: 0.9971 - val_loss: 1.7483 - val_acc: 0.7248\n",
      "Epoch 22/30\n",
      "33/33 [==============================] - 3s 81ms/step - loss: 0.0213 - acc: 0.9951 - val_loss: 1.6297 - val_acc: 0.7171\n",
      "Epoch 23/30\n",
      "33/33 [==============================] - 3s 78ms/step - loss: 0.0040 - acc: 0.9981 - val_loss: 0.6264 - val_acc: 0.9031\n",
      "Epoch 24/30\n",
      "33/33 [==============================] - 3s 78ms/step - loss: 0.0128 - acc: 0.9932 - val_loss: 1.9894 - val_acc: 0.7171\n",
      "Epoch 25/30\n",
      "33/33 [==============================] - 3s 79ms/step - loss: 0.0155 - acc: 0.9951 - val_loss: 2.4537 - val_acc: 0.6357\n",
      "Epoch 26/30\n",
      "33/33 [==============================] - 3s 78ms/step - loss: 0.0011 - acc: 1.0000 - val_loss: 1.7334 - val_acc: 0.7636\n",
      "Epoch 27/30\n",
      "33/33 [==============================] - 3s 78ms/step - loss: 0.0266 - acc: 0.9942 - val_loss: 1.9234 - val_acc: 0.6977\n",
      "Epoch 28/30\n",
      "33/33 [==============================] - 3s 83ms/step - loss: 0.0254 - acc: 0.9951 - val_loss: 1.1806 - val_acc: 0.8140\n",
      "Epoch 29/30\n",
      "33/33 [==============================] - 3s 79ms/step - loss: 3.5273e-04 - acc: 1.0000 - val_loss: 1.8423 - val_acc: 0.7519\n",
      "Epoch 30/30\n",
      "33/33 [==============================] - 3s 78ms/step - loss: 7.7083e-05 - acc: 1.0000 - val_loss: 1.6377 - val_acc: 0.8062\n"
     ]
    },
    {
     "data": {
      "image/png": "[encoded data removed]",
      "text/plain": [
       "<Figure size 640x480 with 1 Axes>"
      ]
     },
     "metadata": {},
     "output_type": "display_data"
    }
   ],
   "source": [
    "import numpy as np\n",
    "import os\n",
    "from keras.preprocessing.text import Tokenizer\n",
    "from tensorflow.keras.preprocessing.sequence import pad_sequences\n",
    "from keras.layers import Embedding, Input, LSTM, Dense\n",
    "from keras.models import Model\n",
    "\n",
    "# Define paths to the files for the two classes\n",
    "\n",
    "\n",
    "# Combine the two sets of files into a single list\n",
    "all_files = class1_files + class2_files\n",
    "\n",
    "# Read in the text from the files and combine into a single list\n",
    "texts = []\n",
    "for file in all_files:\n",
    "    with open(file, \"r\") as f:\n",
    "        text = f.read()\n",
    "        texts.append(text)\n",
    "\n",
    "# Set the maximum number of words in the vocabulary\n",
    "max_words = 10000\n",
    "\n",
    "# Tokenize the text and convert to sequences\n",
    "tokenizer = Tokenizer(num_words=max_words)\n",
    "tokenizer.fit_on_texts(texts)\n",
    "sequences = tokenizer.texts_to_sequences(texts)\n",
    "\n",
    "# Determine the maximum length of a sequence\n",
    "maxlen = max(len(seq) for seq in sequences)\n",
    "\n",
    "# Pad the sequences to have the same length\n",
    "data = pad_sequences(sequences, maxlen=maxlen)\n",
    "\n",
    "# Define the path to the GloVe embedding file\n",
    "glove_path = \"glove.6B.300d.txt\"\n",
    "\n",
    "# Load the embedding file into a dictionary\n",
    "embeddings_index = {}\n",
    "with open(glove_path) as f:\n",
    "    for line in f:\n",
    "        values = line.split()\n",
    "        word = values[0]\n",
    "        coefs = np.asarray(values[1:], dtype='float32')\n",
    "        embeddings_index[word] = coefs\n",
    "\n",
    "# Create an embedding matrix that maps words to their corresponding GloVe vectors\n",
    "embedding_dim = 300\n",
    "word_index = tokenizer.word_index\n",
    "num_words = min(max_words, len(word_index) + 1)\n",
    "embedding_matrix = np.zeros((num_words, embedding_dim))\n",
    "for word, i in word_index.items():\n",
    "    if i >= max_words:\n",
    "        continue\n",
    "    embedding_vector = embeddings_index.get(word)\n",
    "    if embedding_vector is not None:\n",
    "        embedding_matrix[i] = embedding_vector\n",
    "\n",
    "# Define the model architecture\n",
    "embedding_layer = Embedding(num_words,\n",
    "                            embedding_dim,\n",
    "                            weights=[embedding_matrix],\n",
    "                            input_length=maxlen,\n",
    "                            trainable=True)\n",
    "sequence_input = Input(shape=(maxlen,), dtype='int32')\n",
    "embedded_sequences = embedding_layer(sequence_input)\n",
    "x = LSTM(128)(embedded_sequences)\n",
    "x = Dense(128, activation='relu')(x)\n",
    "preds = Dense(1, activation='sigmoid')(x)\n",
    "model = Model(sequence_input, preds)\n",
    "\n",
    "checkpoint = ModelCheckpoint('glove_model/best_weights.h5', monitor='val_loss', save_best_only=True, save_weights_only=False, mode='min')\n",
    "\n",
    "\n",
    "# Compile the model\n",
    "model.compile(loss='binary_crossentropy',\n",
    "              optimizer='rmsprop',\n",
    "              metrics=['acc'])\n",
    "\n",
    "# Define the labels for the data (0 for class1, 1 for class2)\n",
    "labels = np.concatenate([np.zeros(len(class1_files)),\n",
    "                          np.ones(len(class2_files))])\n",
    "\n",
    "# Train the model\n",
    "history = model.fit(data, labels, validation_split=0.2, epochs=30, batch_size=32,callbacks=[checkpoint])\n",
    "\n",
    "# Plot the training and validation loss over time\n",
    "plt.plot(history.history['loss'], label='Training Loss')\n",
    "plt.plot(history.history['val_loss'], label='Validation Loss')\n",
    "plt.xlabel('Epoch')\n",
    "plt.ylabel('Loss')\n",
    "plt.title('Training and Validation Loss')\n",
    "plt.legend()\n",
    "plt.show()\n",
    "\n",
    "model.save('glove_model/my_model.h5')\n",
    "with open('glove_model/tokenizer.pickle', 'wb') as handle:\n",
    "    pickle.dump(tokenizer, handle, protocol=pickle.HIGHEST_PROTOCOL)\n",
    "    \n"
   ]
  },
  {
   "cell_type": "code",
   "execution_count": 20,
   "id": "16a0cde8",
   "metadata": {
    "ExecuteTime": {
     "end_time": "2023-06-04T15:14:35.825933Z",
     "start_time": "2023-06-04T15:14:35.457536Z"
    }
   },
   "outputs": [],
   "source": [
    "import numpy as np\n",
    "import os\n",
    "from keras.preprocessing.text import Tokenizer\n",
    "from tensorflow.keras.preprocessing.sequence import pad_sequences\n",
    "from keras.layers import Embedding, Input, LSTM, Dense\n",
    "from keras.models import Model\n",
    "\n",
    "# Define paths to the files for the two classes\n",
    "\n",
    "\n",
    "# Combine the two sets of files into a single list\n",
    "all_files = class1_files + class2_files\n",
    "\n",
    "# Read in the text from the files and combine into a single list\n",
    "texts = []\n",
    "for file in all_files:\n",
    "    with open(file, \"r\") as f:\n",
    "        text = f.read()\n",
    "        texts.append(text)\n",
    "\n",
    "# Set the maximum number of words in the vocabulary\n",
    "max_words = 10000\n",
    "\n",
    "# Tokenize the text and convert to sequences\n",
    "tokenizer = Tokenizer(num_words=max_words)\n",
    "tokenizer.fit_on_texts(texts)\n",
    "sequences = tokenizer.texts_to_sequences(texts)\n",
    "maxlen = max(len(seq) for seq in sequences)\n",
    "\n",
    "# Pad the sequences to have the same length\n",
    "data = pad_sequences(sequences, maxlen=maxlen)\n",
    "\n",
    "# Determine the maximum length of a sequence"
   ]
  },
  {
   "cell_type": "code",
   "execution_count": 21,
   "id": "2e92c94a",
   "metadata": {
    "ExecuteTime": {
     "end_time": "2023-06-04T15:14:37.519636Z",
     "start_time": "2023-06-04T15:14:36.414961Z"
    }
   },
   "outputs": [
    {
     "name": "stdout",
     "output_type": "stream",
     "text": [
      "WARNING:tensorflow:AutoGraph could not transform <function Model.make_predict_function.<locals>.predict_function at 0x7fb020176cb0> and will run it as-is.\n",
      "Please report this to the TensorFlow team. When filing the bug, set the verbosity to 10 (on Linux, `export AUTOGRAPH_VERBOSITY=10`) and attach the full output.\n",
      "Cause: 'arguments' object has no attribute 'posonlyargs'\n",
      "To silence this warning, decorate the function with @tf.autograph.experimental.do_not_convert\n",
      "WARNING: AutoGraph could not transform <function Model.make_predict_function.<locals>.predict_function at 0x7fb020176cb0> and will run it as-is.\n",
      "Please report this to the TensorFlow team. When filing the bug, set the verbosity to 10 (on Linux, `export AUTOGRAPH_VERBOSITY=10`) and attach the full output.\n",
      "Cause: 'arguments' object has no attribute 'posonlyargs'\n",
      "To silence this warning, decorate the function with @tf.autograph.experimental.do_not_convert\n",
      "9/9 [==============================] - 1s 34ms/step\n",
      "Accuracy: 0.8759124087591241\n",
      "Recall: 0.8759124087591241\n",
      "Precision: 0.8948458223739437\n",
      "F1-Score: 0.87440681622088\n"
     ]
    }
   ],
   "source": [
    "import pickle\n",
    "from sklearn.metrics import accuracy_score, recall_score, precision_score, f1_score\n",
    "\n",
    "# Save the model and tokenizer to dis\n",
    "# Load the model and tokenizer from disk\n",
    "\n",
    "from keras.models import load_model\n",
    "# model = load_model('glove_model/best_weights.h5')\n",
    "model = load_model('glove_model/my_model.h5')\n",
    "\n",
    "with open('glove_model/tokenizer.pickle', 'rb') as handle:\n",
    "    tokenizer = pickle.load(handle)\n",
    "\n",
    "# Load the testing data and labels\n",
    "test_files_class1 = test_upsell\n",
    "test_files_class2 = test_not_upsell\n",
    "test_texts_class1 = []\n",
    "for file in test_files_class1:\n",
    "    with open(file, \"r\") as f:\n",
    "        text = f.read()\n",
    "        test_texts_class1.append(text)\n",
    "test_sequences_class1 = tokenizer.texts_to_sequences(test_texts_class1)\n",
    "test_data_class1 = pad_sequences(test_sequences_class1, maxlen=maxlen)\n",
    "test_labels_class1 = np.zeros(len(test_files_class1), dtype=int) # set all labels to 0 for class 1\n",
    "\n",
    "test_texts_class2 = []\n",
    "for file in test_files_class2:\n",
    "    with open(file, \"r\") as f:\n",
    "        text = f.read()\n",
    "        test_texts_class2.append(text)\n",
    "test_sequences_class2 = tokenizer.texts_to_sequences(test_texts_class2)\n",
    "test_data_class2 = pad_sequences(test_sequences_class2, maxlen=maxlen)\n",
    "test_labels_class2 = np.ones(len(test_files_class2), dtype=int) # set all labels to 1 for class 2\n",
    "\n",
    "test_data = np.concatenate((test_data_class1, test_data_class2), axis=0)\n",
    "test_labels = np.concatenate((test_labels_class1, test_labels_class2), axis=0)\n",
    "\n",
    "# Evaluate the model on the testing data and labels\n",
    "y_pred = model.predict(test_data)\n",
    "y_pred = (y_pred > 0.5).astype('int32') # convert probabilities to binary predictions\n",
    "\n",
    "\n",
    "accuracy = accuracy_score(test_labels, y_pred)\n",
    "recall = recall_score(test_labels, y_pred,average=\"macro\")\n",
    "precision = precision_score(test_labels, y_pred,average=\"macro\")\n",
    "f1 = f1_score(test_labels, y_pred,average=\"macro\")\n",
    "\n",
    "# Print the evaluation metrics\n",
    "print(f\"Accuracy: {accuracy}\")\n",
    "print(f\"Recall: {recall}\")\n",
    "print(f\"Precision: {precision}\")\n",
    "print(f\"F1-Score: {f1}\")\n"
   ]
  },
  {
   "cell_type": "code",
   "execution_count": 25,
   "id": "7bd0c0a8",
   "metadata": {
    "ExecuteTime": {
     "end_time": "2023-06-04T15:38:36.905935Z",
     "start_time": "2023-06-04T15:38:36.730373Z"
    }
   },
   "outputs": [
    {
     "data": {
      "image/png": "[encoded data removed]",
      "text/plain": [
       "<Figure size 640x480 with 1 Axes>"
      ]
     },
     "metadata": {},
     "output_type": "display_data"
    }
   ],
   "source": [
    "import matplotlib.pyplot as plt\n",
    "from sklearn.metrics import precision_recall_curve\n",
    "\n",
    "# Compute precision and recall\n",
    "precision, recall, thresholds = precision_recall_curve(test_labels, y_pred)\n",
    "\n",
    "# Plot the Precision-Recall curve\n",
    "plt.plot(recall, precision)\n",
    "plt.xlabel('Recall')\n",
    "plt.ylabel('Precision')\n",
    "plt.title('Precision-Recall Curve')\n",
    "plt.grid(True)\n",
    "plt.show()\n",
    "\n"
   ]
  },
  {
   "cell_type": "code",
   "execution_count": null,
   "id": "351326c5",
   "metadata": {},
   "outputs": [],
   "source": []
  }
 ],
 "metadata": {
  "kernelspec": {
   "display_name": "Python 3 (ipykernel)",
   "language": "python",
   "name": "python3"
  },
  "language_info": {
   "codemirror_mode": {
    "name": "ipython",
    "version": 3
   },
   "file_extension": ".py",
   "mimetype": "text/x-python",
   "name": "python",
   "nbconvert_exporter": "python",
   "pygments_lexer": "ipython3",
   "version": "3.8.2"
  }
 },
 "nbformat": 4,
 "nbformat_minor": 5
}
